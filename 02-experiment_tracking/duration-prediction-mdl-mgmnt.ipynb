{
 "cells": [
  {
   "cell_type": "code",
   "execution_count": 11,
   "metadata": {},
   "outputs": [],
   "source": [
    "import pandas as pd\n",
    "import pickle\n",
    "import seaborn as sns\n",
    "import xgboost as xgb\n",
    "\n",
    "from sklearn.feature_extraction import DictVectorizer\n",
    "from sklearn.metrics import mean_squared_error"
   ]
  },
  {
   "cell_type": "code",
   "execution_count": 2,
   "metadata": {},
   "outputs": [
    {
     "data": {
      "text/plain": [
       "<Experiment: artifact_location='./mlruns/1', experiment_id='1', lifecycle_stage='active', name='nyc-taxi-experiment', tags={'data-scientist': 'soumyadip', 'model': 'xgboost'}>"
      ]
     },
     "execution_count": 2,
     "metadata": {},
     "output_type": "execute_result"
    }
   ],
   "source": [
    "import mlflow\n",
    "\n",
    "mlflow.set_tracking_uri(\"sqlite:///mlflow.db\")\n",
    "mlflow.set_experiment(\"nyc-taxi-experiment\")"
   ]
  },
  {
   "cell_type": "code",
   "execution_count": 3,
   "metadata": {},
   "outputs": [],
   "source": [
    "def read_dataframe(filename):\n",
    "    if filename.endswith(\".csv\"):\n",
    "        df = pd.read_csv(filename)\n",
    "        df.lpep_dropoff_datetime = pd.to_datetime(df.lpep_dropoff_datetime)\n",
    "        df.lpep_pickup_datetime = pd.to_datetime(df.lpep_pickup_datetime)\n",
    "\n",
    "    elif filename.endswith(\".parquet\"):\n",
    "        df = pd.read_parquet(filename)\n",
    "\n",
    "    df['duration'] = df.lpep_dropoff_datetime - df.lpep_pickup_datetime\n",
    "    df.duration = df.duration.apply(lambda td: td.total_seconds()/60)\n",
    "\n",
    "    df = df[(df.duration >= 1) & (df.duration <= 60)]\n",
    "    \n",
    "    categorical = [\"PULocationID\", \"DOLocationID\"]\n",
    "    df[categorical] = df[categorical].astype(str)\n",
    "    \n",
    "    return df"
   ]
  },
  {
   "cell_type": "code",
   "execution_count": 4,
   "metadata": {},
   "outputs": [],
   "source": [
    "df_train = read_dataframe('./data/green_tripdata_2021-01.parquet')\n",
    "df_val = read_dataframe('./data/green_tripdata_2021-02.parquet')"
   ]
  },
  {
   "cell_type": "code",
   "execution_count": 6,
   "metadata": {},
   "outputs": [
    {
     "data": {
      "text/plain": [
       "(73908, 61921)"
      ]
     },
     "execution_count": 6,
     "metadata": {},
     "output_type": "execute_result"
    }
   ],
   "source": [
    "len(df_train), len(df_val)"
   ]
  },
  {
   "cell_type": "code",
   "execution_count": 7,
   "metadata": {},
   "outputs": [],
   "source": [
    "df_train[\"PO_DO\"] = df_train['PULocationID'] + \"_\" + df_train[\"DOLocationID\"]\n",
    "df_val[\"PO_DO\"] = df_val['PULocationID'] + \"_\" + df_val[\"DOLocationID\"]"
   ]
  },
  {
   "cell_type": "code",
   "execution_count": 8,
   "metadata": {},
   "outputs": [],
   "source": [
    "categorical = [\"PO_DO\"]\n",
    "numerical = [\"trip_distance\"]\n",
    "\n",
    "dv = DictVectorizer()\n",
    "\n",
    "train_dicts = df_train[categorical + numerical].to_dict(orient=\"records\")\n",
    "X_train = dv.fit_transform(train_dicts)\n",
    "\n",
    "val_dicts = df_val[categorical + numerical].to_dict(orient=\"records\")\n",
    "X_val = dv.transform(val_dicts)"
   ]
  },
  {
   "cell_type": "code",
   "execution_count": 9,
   "metadata": {},
   "outputs": [],
   "source": [
    "target = 'duration'\n",
    "y_train = df_train[target].values\n",
    "y_val = df_val[target].values"
   ]
  },
  {
   "cell_type": "code",
   "execution_count": 12,
   "metadata": {},
   "outputs": [],
   "source": [
    "train = xgb.DMatrix(X_train, label=y_train)\n",
    "valid = xgb.DMatrix(X_val, label=y_val)"
   ]
  },
  {
   "cell_type": "code",
   "execution_count": 17,
   "metadata": {},
   "outputs": [
    {
     "name": "stdout",
     "output_type": "stream",
     "text": [
      "[23:52:53] WARNING: C:/Users/administrator/workspace/xgboost-win64_release_1.6.0/src/objective/regression_obj.cu:203: reg:linear is now deprecated in favor of reg:squarederror.\n",
      "[0]\tvalidation-rmse:10.41313\n",
      "[1]\tvalidation-rmse:7.49404\n",
      "[2]\tvalidation-rmse:6.80830\n",
      "[3]\tvalidation-rmse:6.61693\n",
      "[4]\tvalidation-rmse:6.55181\n",
      "[5]\tvalidation-rmse:6.53427\n",
      "[6]\tvalidation-rmse:6.52150\n",
      "[7]\tvalidation-rmse:6.51310\n",
      "[8]\tvalidation-rmse:6.50617\n",
      "[9]\tvalidation-rmse:6.49763\n",
      "[10]\tvalidation-rmse:6.49332\n",
      "[11]\tvalidation-rmse:6.48786\n",
      "[12]\tvalidation-rmse:6.48156\n",
      "[13]\tvalidation-rmse:6.47422\n",
      "[14]\tvalidation-rmse:6.46948\n",
      "[15]\tvalidation-rmse:6.46388\n",
      "[16]\tvalidation-rmse:6.46056\n",
      "[17]\tvalidation-rmse:6.45686\n",
      "[18]\tvalidation-rmse:6.45375\n",
      "[19]\tvalidation-rmse:6.44925\n",
      "[20]\tvalidation-rmse:6.44596\n",
      "[21]\tvalidation-rmse:6.44087\n",
      "[22]\tvalidation-rmse:6.43587\n",
      "[23]\tvalidation-rmse:6.43250\n",
      "[24]\tvalidation-rmse:6.43028\n",
      "[25]\tvalidation-rmse:6.42795\n",
      "[26]\tvalidation-rmse:6.42820\n",
      "[27]\tvalidation-rmse:6.42383\n",
      "[28]\tvalidation-rmse:6.42096\n",
      "[29]\tvalidation-rmse:6.41894\n",
      "[30]\tvalidation-rmse:6.41707\n",
      "[31]\tvalidation-rmse:6.41342\n",
      "[32]\tvalidation-rmse:6.40997\n",
      "[33]\tvalidation-rmse:6.40782\n",
      "[34]\tvalidation-rmse:6.40677\n",
      "[35]\tvalidation-rmse:6.40482\n",
      "[36]\tvalidation-rmse:6.40035\n",
      "[37]\tvalidation-rmse:6.39945\n",
      "[38]\tvalidation-rmse:6.39836\n",
      "[39]\tvalidation-rmse:6.39779\n",
      "[40]\tvalidation-rmse:6.39765\n",
      "[41]\tvalidation-rmse:6.39444\n",
      "[42]\tvalidation-rmse:6.39104\n",
      "[43]\tvalidation-rmse:6.39000\n",
      "[44]\tvalidation-rmse:6.38910\n",
      "[45]\tvalidation-rmse:6.38813\n",
      "[46]\tvalidation-rmse:6.38624\n",
      "[47]\tvalidation-rmse:6.38439\n",
      "[48]\tvalidation-rmse:6.38182\n",
      "[49]\tvalidation-rmse:6.37920\n",
      "[50]\tvalidation-rmse:6.37896\n",
      "[51]\tvalidation-rmse:6.37764\n",
      "[52]\tvalidation-rmse:6.37534\n",
      "[53]\tvalidation-rmse:6.37241\n",
      "[54]\tvalidation-rmse:6.37236\n",
      "[55]\tvalidation-rmse:6.37121\n",
      "[56]\tvalidation-rmse:6.37039\n",
      "[57]\tvalidation-rmse:6.36923\n",
      "[58]\tvalidation-rmse:6.36815\n",
      "[59]\tvalidation-rmse:6.36813\n",
      "[60]\tvalidation-rmse:6.36557\n",
      "[61]\tvalidation-rmse:6.36325\n",
      "[62]\tvalidation-rmse:6.36377\n",
      "[63]\tvalidation-rmse:6.36317\n",
      "[64]\tvalidation-rmse:6.36228\n",
      "[65]\tvalidation-rmse:6.36019\n",
      "[66]\tvalidation-rmse:6.35956\n",
      "[67]\tvalidation-rmse:6.35877\n",
      "[68]\tvalidation-rmse:6.35786\n",
      "[69]\tvalidation-rmse:6.35689\n",
      "[70]\tvalidation-rmse:6.35555\n",
      "[71]\tvalidation-rmse:6.35393\n",
      "[72]\tvalidation-rmse:6.35348\n",
      "[73]\tvalidation-rmse:6.35237\n",
      "[74]\tvalidation-rmse:6.35155\n",
      "[75]\tvalidation-rmse:6.35150\n",
      "[76]\tvalidation-rmse:6.35127\n",
      "[77]\tvalidation-rmse:6.34976\n",
      "[78]\tvalidation-rmse:6.34859\n",
      "[79]\tvalidation-rmse:6.34844\n",
      "[80]\tvalidation-rmse:6.34852\n",
      "[81]\tvalidation-rmse:6.34890\n",
      "[82]\tvalidation-rmse:6.34809\n",
      "[83]\tvalidation-rmse:6.34696\n",
      "[84]\tvalidation-rmse:6.34509\n",
      "[85]\tvalidation-rmse:6.34562\n",
      "[86]\tvalidation-rmse:6.34488\n",
      "[87]\tvalidation-rmse:6.34450\n",
      "[88]\tvalidation-rmse:6.34386\n",
      "[89]\tvalidation-rmse:6.34367\n",
      "[90]\tvalidation-rmse:6.34284\n",
      "[91]\tvalidation-rmse:6.34182\n",
      "[92]\tvalidation-rmse:6.34065\n",
      "[93]\tvalidation-rmse:6.34099\n",
      "[94]\tvalidation-rmse:6.34204\n",
      "[95]\tvalidation-rmse:6.34196\n",
      "[96]\tvalidation-rmse:6.34161\n",
      "[97]\tvalidation-rmse:6.34204\n",
      "[98]\tvalidation-rmse:6.34111\n",
      "[99]\tvalidation-rmse:6.34024\n",
      "[100]\tvalidation-rmse:6.34169\n",
      "[101]\tvalidation-rmse:6.34120\n",
      "[102]\tvalidation-rmse:6.34147\n",
      "[103]\tvalidation-rmse:6.34084\n",
      "[104]\tvalidation-rmse:6.34036\n",
      "[105]\tvalidation-rmse:6.34126\n",
      "[106]\tvalidation-rmse:6.34402\n",
      "[107]\tvalidation-rmse:6.34423\n",
      "[108]\tvalidation-rmse:6.34408\n",
      "[109]\tvalidation-rmse:6.34318\n",
      "[110]\tvalidation-rmse:6.34268\n",
      "[111]\tvalidation-rmse:6.34250\n",
      "[112]\tvalidation-rmse:6.34034\n",
      "[113]\tvalidation-rmse:6.33993\n",
      "[114]\tvalidation-rmse:6.33925\n",
      "[115]\tvalidation-rmse:6.34072\n",
      "[116]\tvalidation-rmse:6.34073\n",
      "[117]\tvalidation-rmse:6.34035\n",
      "[118]\tvalidation-rmse:6.33997\n",
      "[119]\tvalidation-rmse:6.34081\n",
      "[120]\tvalidation-rmse:6.34093\n",
      "[121]\tvalidation-rmse:6.33954\n",
      "[122]\tvalidation-rmse:6.33893\n",
      "[123]\tvalidation-rmse:6.33870\n",
      "[124]\tvalidation-rmse:6.33824\n",
      "[125]\tvalidation-rmse:6.33855\n",
      "[126]\tvalidation-rmse:6.33868\n",
      "[127]\tvalidation-rmse:6.33883\n",
      "[128]\tvalidation-rmse:6.33897\n",
      "[129]\tvalidation-rmse:6.33871\n",
      "[130]\tvalidation-rmse:6.33825\n",
      "[131]\tvalidation-rmse:6.33845\n",
      "[132]\tvalidation-rmse:6.33865\n",
      "[133]\tvalidation-rmse:6.33825\n",
      "[134]\tvalidation-rmse:6.33854\n",
      "[135]\tvalidation-rmse:6.33870\n",
      "[136]\tvalidation-rmse:6.33905\n",
      "[137]\tvalidation-rmse:6.33834\n",
      "[138]\tvalidation-rmse:6.33837\n",
      "[139]\tvalidation-rmse:6.33844\n",
      "[140]\tvalidation-rmse:6.33843\n",
      "[141]\tvalidation-rmse:6.33765\n",
      "[142]\tvalidation-rmse:6.33607\n",
      "[143]\tvalidation-rmse:6.33617\n",
      "[144]\tvalidation-rmse:6.33679\n",
      "[145]\tvalidation-rmse:6.33564\n",
      "[146]\tvalidation-rmse:6.33600\n",
      "[147]\tvalidation-rmse:6.33635\n",
      "[148]\tvalidation-rmse:6.33597\n",
      "[149]\tvalidation-rmse:6.33471\n",
      "[150]\tvalidation-rmse:6.33538\n",
      "[151]\tvalidation-rmse:6.33497\n",
      "[152]\tvalidation-rmse:6.33568\n",
      "[153]\tvalidation-rmse:6.33581\n",
      "[154]\tvalidation-rmse:6.33661\n",
      "[155]\tvalidation-rmse:6.33989\n",
      "[156]\tvalidation-rmse:6.33981\n",
      "[157]\tvalidation-rmse:6.33972\n",
      "[158]\tvalidation-rmse:6.34001\n",
      "[159]\tvalidation-rmse:6.33996\n",
      "[160]\tvalidation-rmse:6.34110\n",
      "[161]\tvalidation-rmse:6.34127\n",
      "[162]\tvalidation-rmse:6.34132\n",
      "[163]\tvalidation-rmse:6.34166\n",
      "[164]\tvalidation-rmse:6.34168\n",
      "[165]\tvalidation-rmse:6.34230\n",
      "[166]\tvalidation-rmse:6.34243\n",
      "[167]\tvalidation-rmse:6.34193\n",
      "[168]\tvalidation-rmse:6.34165\n",
      "[169]\tvalidation-rmse:6.34140\n",
      "[170]\tvalidation-rmse:6.34106\n",
      "[171]\tvalidation-rmse:6.34150\n",
      "[172]\tvalidation-rmse:6.34152\n",
      "[173]\tvalidation-rmse:6.34178\n",
      "[174]\tvalidation-rmse:6.34216\n",
      "[175]\tvalidation-rmse:6.34212\n",
      "[176]\tvalidation-rmse:6.34219\n",
      "[177]\tvalidation-rmse:6.34233\n",
      "[178]\tvalidation-rmse:6.34236\n",
      "[179]\tvalidation-rmse:6.34193\n",
      "[180]\tvalidation-rmse:6.34203\n",
      "[181]\tvalidation-rmse:6.34170\n",
      "[182]\tvalidation-rmse:6.34177\n",
      "[183]\tvalidation-rmse:6.34245\n",
      "[184]\tvalidation-rmse:6.34131\n",
      "[185]\tvalidation-rmse:6.34094\n",
      "[186]\tvalidation-rmse:6.34073\n",
      "[187]\tvalidation-rmse:6.34156\n",
      "[188]\tvalidation-rmse:6.34186\n",
      "[189]\tvalidation-rmse:6.34229\n",
      "[190]\tvalidation-rmse:6.34199\n",
      "[191]\tvalidation-rmse:6.34169\n",
      "[192]\tvalidation-rmse:6.34081\n",
      "[193]\tvalidation-rmse:6.34393\n",
      "[194]\tvalidation-rmse:6.34417\n",
      "[195]\tvalidation-rmse:6.34519\n",
      "[196]\tvalidation-rmse:6.34537\n",
      "[197]\tvalidation-rmse:6.34510\n",
      "[198]\tvalidation-rmse:6.34440\n"
     ]
    }
   ],
   "source": [
    "from datetime import date\n",
    "from tkinter.messagebox import ABORTRETRYIGNORE\n",
    "\n",
    "\n",
    "with mlflow.start_run():\n",
    "\n",
    "    tags = {\n",
    "        \"data-scientist\": \"Soumyadip\",\n",
    "        \"model\": \"xgboost\",\n",
    "        \"version\": \"v2\",\n",
    "    }    \n",
    "\n",
    "    mlflow.set_tags(tags)\n",
    "    \n",
    "    best_params = {\n",
    "        'learning_rate': 0.6383041146845452,\n",
    "        'max_depth': 31,\n",
    "        'min_child_weight': 1.1819369158769895,\n",
    "        'objective': 'reg:linear',\n",
    "        'reg_alpha': 0.14202144046856877,\n",
    "        'reg_lambda': 0.18611039063872484,\n",
    "        'seed': 42\n",
    "    }\n",
    "\n",
    "    mlflow.log_params(best_params)\n",
    "\n",
    "    booster = xgb.train(\n",
    "        params=best_params,\n",
    "        dtrain=train,\n",
    "        num_boost_round=1000,\n",
    "        evals=[(valid, \"validation\")],\n",
    "        early_stopping_rounds=50 \n",
    "    )\n",
    "\n",
    "    y_pred = booster.predict(valid)\n",
    "    rmse = mean_squared_error(y_val, y_pred, squared=False)\n",
    "    mlflow.log_metric(\"rmse\", rmse)\n",
    "\n",
    "    with open(\"models/preprocessor.b\", \"wb\") as f_out:\n",
    "        pickle.dump(dv, f_out)\n",
    "\n",
    "    mlflow.log_artifact(\"models/preprocessor.b\", artifact_path=\"preprocessor\")\n",
    "    \n",
    "    mlflow.xgboost.log_model(booster, artifact_path=\"model_mlflow\")"
   ]
  },
  {
   "cell_type": "code",
   "execution_count": 20,
   "metadata": {},
   "outputs": [
    {
     "name": "stdout",
     "output_type": "stream",
     "text": [
      "[23:55:55] WARNING: C:/Users/administrator/workspace/xgboost-win64_release_1.6.0/src/objective/regression_obj.cu:203: reg:linear is now deprecated in favor of reg:squarederror.\n"
     ]
    }
   ],
   "source": [
    "logged_model = 'runs:/104ad5c200e64ac6aa3eb01aacd43adb/model_mlflow'\n",
    "\n",
    "# Load model as a PyFuncModel.\n",
    "loaded_model = mlflow.pyfunc.load_model(logged_model)"
   ]
  },
  {
   "cell_type": "code",
   "execution_count": 21,
   "metadata": {},
   "outputs": [
    {
     "data": {
      "text/plain": [
       "mlflow.pyfunc.loaded_model:\n",
       "  artifact_path: model_mlflow\n",
       "  flavor: mlflow.xgboost\n",
       "  run_id: 104ad5c200e64ac6aa3eb01aacd43adb"
      ]
     },
     "execution_count": 21,
     "metadata": {},
     "output_type": "execute_result"
    }
   ],
   "source": [
    "loaded_model"
   ]
  },
  {
   "cell_type": "code",
   "execution_count": 22,
   "metadata": {},
   "outputs": [
    {
     "name": "stdout",
     "output_type": "stream",
     "text": [
      "[23:58:12] WARNING: C:/Users/administrator/workspace/xgboost-win64_release_1.6.0/src/objective/regression_obj.cu:203: reg:linear is now deprecated in favor of reg:squarederror.\n"
     ]
    }
   ],
   "source": [
    "xgboost_model = mlflow.xgboost.load_model(logged_model)\n"
   ]
  },
  {
   "cell_type": "code",
   "execution_count": 30,
   "metadata": {},
   "outputs": [
    {
     "data": {
      "text/plain": [
       "array([14.759042 ,  7.2535048, 17.462654 , 24.372429 ,  9.365672 ,\n",
       "       17.207298 , 10.600252 ,  8.094475 ,  9.014834 , 20.498537 ],\n",
       "      dtype=float32)"
      ]
     },
     "execution_count": 30,
     "metadata": {},
     "output_type": "execute_result"
    }
   ],
   "source": [
    "# load and predict model\n",
    "xgboost_model.predict(valid)[:10]"
   ]
  }
 ],
 "metadata": {
  "kernelspec": {
   "display_name": "Python 3.10.4 ('mlops')",
   "language": "python",
   "name": "python3"
  },
  "language_info": {
   "codemirror_mode": {
    "name": "ipython",
    "version": 3
   },
   "file_extension": ".py",
   "mimetype": "text/x-python",
   "name": "python",
   "nbconvert_exporter": "python",
   "pygments_lexer": "ipython3",
   "version": "3.10.4"
  },
  "orig_nbformat": 4,
  "vscode": {
   "interpreter": {
    "hash": "18991c5c23bbeacf7138ad08653f66172ad2fdcb5104daecb84c50773ee67104"
   }
  }
 },
 "nbformat": 4,
 "nbformat_minor": 2
}
