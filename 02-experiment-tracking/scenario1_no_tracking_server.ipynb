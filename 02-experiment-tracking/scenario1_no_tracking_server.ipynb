{
 "cells": [
  {
   "cell_type": "markdown",
   "metadata": {},
   "source": [
    "# Scenario 1: A single data scientist participating in an ML competition\n",
    "MLflow setup:\n",
    "\n",
    "- Tracking server: no\n",
    "- Backend store: local filesystem\n",
    "- Artifacts store: local filesystem\n",
    "- The experiments can be explored locally by launching the MLflow UI."
   ]
  },
  {
   "cell_type": "code",
   "execution_count": 14,
   "metadata": {},
   "outputs": [],
   "source": [
    "import mlflow\n",
    "\n",
    "from sklearn.linear_model import LogisticRegression\n",
    "from sklearn.datasets import load_iris\n",
    "from sklearn.metrics import accuracy_score"
   ]
  },
  {
   "cell_type": "code",
   "execution_count": 15,
   "metadata": {},
   "outputs": [
    {
     "name": "stdout",
     "output_type": "stream",
     "text": [
      "tracking uri: file:///C:/Users/soumy/source/repos/mlops-zoomcamp/02-experiment-tracking/mlruns\n"
     ]
    }
   ],
   "source": [
    "print(f\"tracking uri: {mlflow.get_tracking_uri()}\")"
   ]
  },
  {
   "cell_type": "code",
   "execution_count": 16,
   "metadata": {},
   "outputs": [
    {
     "name": "stderr",
     "output_type": "stream",
     "text": [
      "WARNING:root:Malformed experiment '1'. Detailed error Yaml file 'C:\\Users\\soumy\\source\\repos\\mlops-zoomcamp\\02-experiment-tracking\\mlruns\\1\\meta.yaml' does not exist.\n",
      "Traceback (most recent call last):\n",
      "  File \"c:\\Users\\soumy\\anaconda3\\envs\\mlops\\lib\\site-packages\\mlflow\\store\\tracking\\file_store.py\", line 270, in list_experiments\n",
      "    experiment = self._get_experiment(exp_id, view_type)\n",
      "  File \"c:\\Users\\soumy\\anaconda3\\envs\\mlops\\lib\\site-packages\\mlflow\\store\\tracking\\file_store.py\", line 394, in _get_experiment\n",
      "    meta = FileStore._read_yaml(experiment_dir, FileStore.META_DATA_FILE_NAME)\n",
      "  File \"c:\\Users\\soumy\\anaconda3\\envs\\mlops\\lib\\site-packages\\mlflow\\store\\tracking\\file_store.py\", line 1049, in _read_yaml\n",
      "    return _read_helper(root, file_name, attempts_remaining=retries)\n",
      "  File \"c:\\Users\\soumy\\anaconda3\\envs\\mlops\\lib\\site-packages\\mlflow\\store\\tracking\\file_store.py\", line 1042, in _read_helper\n",
      "    result = read_yaml(root, file_name)\n",
      "  File \"c:\\Users\\soumy\\anaconda3\\envs\\mlops\\lib\\site-packages\\mlflow\\utils\\file_utils.py\", line 181, in read_yaml\n",
      "    raise MissingConfigException(\"Yaml file '%s' does not exist.\" % file_path)\n",
      "mlflow.exceptions.MissingConfigException: Yaml file 'C:\\Users\\soumy\\source\\repos\\mlops-zoomcamp\\02-experiment-tracking\\mlruns\\1\\meta.yaml' does not exist.\n"
     ]
    },
    {
     "data": {
      "text/plain": [
       "[<Experiment: artifact_location='file:///C:/Users/soumy/source/repos/mlops-zoomcamp/02-experiment-tracking/mlruns/0', experiment_id='0', lifecycle_stage='active', name='scenario-1', tags={}>]"
      ]
     },
     "execution_count": 16,
     "metadata": {},
     "output_type": "execute_result"
    }
   ],
   "source": [
    "mlflow.list_experiments()"
   ]
  },
  {
   "cell_type": "markdown",
   "metadata": {},
   "source": [
    "# Creating an experiment and logging a new run"
   ]
  },
  {
   "cell_type": "code",
   "execution_count": 17,
   "metadata": {},
   "outputs": [
    {
     "name": "stderr",
     "output_type": "stream",
     "text": [
      "WARNING:root:Malformed experiment '1'. Detailed error Yaml file 'C:\\Users\\soumy\\source\\repos\\mlops-zoomcamp\\02-experiment-tracking\\mlruns\\1\\meta.yaml' does not exist.\n",
      "Traceback (most recent call last):\n",
      "  File \"c:\\Users\\soumy\\anaconda3\\envs\\mlops\\lib\\site-packages\\mlflow\\store\\tracking\\file_store.py\", line 270, in list_experiments\n",
      "    experiment = self._get_experiment(exp_id, view_type)\n",
      "  File \"c:\\Users\\soumy\\anaconda3\\envs\\mlops\\lib\\site-packages\\mlflow\\store\\tracking\\file_store.py\", line 394, in _get_experiment\n",
      "    meta = FileStore._read_yaml(experiment_dir, FileStore.META_DATA_FILE_NAME)\n",
      "  File \"c:\\Users\\soumy\\anaconda3\\envs\\mlops\\lib\\site-packages\\mlflow\\store\\tracking\\file_store.py\", line 1049, in _read_yaml\n",
      "    return _read_helper(root, file_name, attempts_remaining=retries)\n",
      "  File \"c:\\Users\\soumy\\anaconda3\\envs\\mlops\\lib\\site-packages\\mlflow\\store\\tracking\\file_store.py\", line 1042, in _read_helper\n",
      "    result = read_yaml(root, file_name)\n",
      "  File \"c:\\Users\\soumy\\anaconda3\\envs\\mlops\\lib\\site-packages\\mlflow\\utils\\file_utils.py\", line 181, in read_yaml\n",
      "    raise MissingConfigException(\"Yaml file '%s' does not exist.\" % file_path)\n",
      "mlflow.exceptions.MissingConfigException: Yaml file 'C:\\Users\\soumy\\source\\repos\\mlops-zoomcamp\\02-experiment-tracking\\mlruns\\1\\meta.yaml' does not exist.\n"
     ]
    },
    {
     "name": "stdout",
     "output_type": "stream",
     "text": [
      "default artifacts URI: file:///C:/Users/soumy/source/repos/mlops-zoomcamp/02-experiment-tracking/mlruns/0/95a51eab4f0548219b2718ab1f9532a5/artifacts\n"
     ]
    }
   ],
   "source": [
    "mlflow.set_experiment(\"scenario-1\")\n",
    "\n",
    "with mlflow.start_run():\n",
    "    X, y = load_iris(return_X_y=True)\n",
    "\n",
    "    params = {\"C\": 0.1, \"random_state\":143}\n",
    "    mlflow.log_params(params)\n",
    "\n",
    "    lr = LogisticRegression(**params).fit(X, y)\n",
    "    y_pred = lr.predict(X)\n",
    "    mlflow.log_metric(\"accuracy\", accuracy_score(y, y_pred))\n",
    "\n",
    "    mlflow.sklearn.log_model(lr, artifact_path=\"iris_models\")\n",
    "    print(f\"default artifacts URI: {mlflow.get_artifact_uri()}\")"
   ]
  },
  {
   "cell_type": "code",
   "execution_count": 18,
   "metadata": {},
   "outputs": [
    {
     "name": "stderr",
     "output_type": "stream",
     "text": [
      "WARNING:root:Malformed experiment '1'. Detailed error Yaml file 'C:\\Users\\soumy\\source\\repos\\mlops-zoomcamp\\02-experiment-tracking\\mlruns\\1\\meta.yaml' does not exist.\n",
      "Traceback (most recent call last):\n",
      "  File \"c:\\Users\\soumy\\anaconda3\\envs\\mlops\\lib\\site-packages\\mlflow\\store\\tracking\\file_store.py\", line 270, in list_experiments\n",
      "    experiment = self._get_experiment(exp_id, view_type)\n",
      "  File \"c:\\Users\\soumy\\anaconda3\\envs\\mlops\\lib\\site-packages\\mlflow\\store\\tracking\\file_store.py\", line 394, in _get_experiment\n",
      "    meta = FileStore._read_yaml(experiment_dir, FileStore.META_DATA_FILE_NAME)\n",
      "  File \"c:\\Users\\soumy\\anaconda3\\envs\\mlops\\lib\\site-packages\\mlflow\\store\\tracking\\file_store.py\", line 1049, in _read_yaml\n",
      "    return _read_helper(root, file_name, attempts_remaining=retries)\n",
      "  File \"c:\\Users\\soumy\\anaconda3\\envs\\mlops\\lib\\site-packages\\mlflow\\store\\tracking\\file_store.py\", line 1042, in _read_helper\n",
      "    result = read_yaml(root, file_name)\n",
      "  File \"c:\\Users\\soumy\\anaconda3\\envs\\mlops\\lib\\site-packages\\mlflow\\utils\\file_utils.py\", line 181, in read_yaml\n",
      "    raise MissingConfigException(\"Yaml file '%s' does not exist.\" % file_path)\n",
      "mlflow.exceptions.MissingConfigException: Yaml file 'C:\\Users\\soumy\\source\\repos\\mlops-zoomcamp\\02-experiment-tracking\\mlruns\\1\\meta.yaml' does not exist.\n"
     ]
    },
    {
     "data": {
      "text/plain": [
       "[<Experiment: artifact_location='file:///C:/Users/soumy/source/repos/mlops-zoomcamp/02-experiment-tracking/mlruns/0', experiment_id='0', lifecycle_stage='active', name='scenario-1', tags={}>]"
      ]
     },
     "execution_count": 18,
     "metadata": {},
     "output_type": "execute_result"
    }
   ],
   "source": [
    "mlflow.list_experiments()"
   ]
  },
  {
   "cell_type": "code",
   "execution_count": 19,
   "metadata": {},
   "outputs": [],
   "source": [
    "from mlflow.tracking import MlflowClient\n",
    "\n",
    "\n",
    "client = MlflowClient()"
   ]
  },
  {
   "cell_type": "code",
   "execution_count": 20,
   "metadata": {},
   "outputs": [
    {
     "name": "stdout",
     "output_type": "stream",
     "text": [
      "It's not possible to access the model registry :(\n"
     ]
    }
   ],
   "source": [
    "from mlflow.exceptions import MlflowException\n",
    "\n",
    "try:\n",
    "    client.list_registered_models()\n",
    "except MlflowException:\n",
    "    print(\"It's not possible to access the model registry :(\")"
   ]
  },
  {
   "cell_type": "code",
   "execution_count": null,
   "metadata": {},
   "outputs": [],
   "source": []
  }
 ],
 "metadata": {
  "kernelspec": {
   "display_name": "Python 3.10.4 ('mlops')",
   "language": "python",
   "name": "python3"
  },
  "language_info": {
   "codemirror_mode": {
    "name": "ipython",
    "version": 3
   },
   "file_extension": ".py",
   "mimetype": "text/x-python",
   "name": "python",
   "nbconvert_exporter": "python",
   "pygments_lexer": "ipython3",
   "version": "3.10.4"
  },
  "orig_nbformat": 4,
  "vscode": {
   "interpreter": {
    "hash": "18991c5c23bbeacf7138ad08653f66172ad2fdcb5104daecb84c50773ee67104"
   }
  }
 },
 "nbformat": 4,
 "nbformat_minor": 2
}
